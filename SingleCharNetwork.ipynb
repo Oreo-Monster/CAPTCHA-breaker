{
 "cells": [
  {
   "cell_type": "markdown",
   "id": "73fd5274",
   "metadata": {},
   "source": [
    "# Single Character Network\n",
    "\n",
    "The purpose of this network is to identify which alphanumeric value a CAPTCHA character and takes a centered 32x32 input."
   ]
  },
  {
   "cell_type": "code",
   "execution_count": 1,
   "id": "eed6e958",
   "metadata": {},
   "outputs": [],
   "source": [
    "import numpy as np\n",
    "import matplotlib.pyplot as plt\n",
    "import tensorflow as tf\n",
    "from tensorflow.keras import layers, models\n",
    "import image_preprocess as img_pp\n",
    "import os\n",
    "\n",
    "# Automatically reload your external source code\n",
    "%load_ext autoreload\n",
    "%autoreload 2"
   ]
  },
  {
   "cell_type": "code",
   "execution_count": 2,
   "id": "765dd0b1",
   "metadata": {},
   "outputs": [
    {
     "name": "stdout",
     "output_type": "stream",
     "text": [
      "Centered X samples: (11700, 32, 32, 3)\n"
     ]
    }
   ],
   "source": [
    "#Extracting all centered single char images\n",
    "y_pos = np.load('data/y_single_pos.npy')\n",
    "y_label = np.load('data/y_single_label.npy')\n",
    "x = np.load('data/x_single.npy')\n",
    "centered_labels = y_label[np.nonzero(y_pos)]\n",
    "centered_x = x[np.nonzero(y_pos)]\n",
    "\n",
    "np.save(\"data/x_single_centered.npy\", centered_x)\n",
    "np.save(\"data/y_single_label_centered.npy\", centered_labels)\n",
    "\n",
    "print(f\"Centered X samples: {centered_x.shape}\")"
   ]
  },
  {
   "cell_type": "code",
   "execution_count": 3,
   "id": "e191dc02",
   "metadata": {},
   "outputs": [
    {
     "name": "stdout",
     "output_type": "stream",
     "text": [
      "Preprocessing data, please wait...\n",
      "(11700, 32, 32, 1)\n",
      "(11700,)\n",
      "Preprocessed data saved to disk\n",
      "Loading in preprocessed data\n",
      "Creating Splits\n",
      "x_train shape: (9360, 32, 32, 1)\n",
      "x_val shape: (2240, 32, 32, 1)\n"
     ]
    }
   ],
   "source": [
    "#Make sure at least one of these files exist\n",
    "#Path to full data files created by Data Gen Notebook\n",
    "X_PATH = \"data/x_single_centered.npy\"\n",
    "Y_PATH = \"data/y_single_label_centered.npy\"\n",
    "\n",
    "#Preprocessed and saved previously\n",
    "X_PREPROCESSED = \"data/x_single_centered_preprocessed.npy\"\n",
    "Y_PREPROCESSED = \"data/y_single_label_centered_preprocessed.npy\"\n",
    "\n",
    "#Smaller data set for development\n",
    "X_DEV = \"data/x_single_dev.npy\"\n",
    "Y_DEV = \"data/y_single_pos_dev.npy\"\n",
    "\n",
    "USE_DEV = False\n",
    "\n",
    "\n",
    "if not os.path.exists(X_PREPROCESSED) and not os.path.exists(Y_PREPROCESSED):\n",
    "    print(\"Preprocessing data, please wait...\")\n",
    "    x, y = img_pp.preprocess_image_data(X_PATH, Y_PATH)\n",
    "    print(x.shape)\n",
    "    print(y.shape)\n",
    "    print(\"Preprocessed data saved to disk\")\n",
    "    \n",
    "if not USE_DEV:\n",
    "    print(\"Loading in preprocessed data\")\n",
    "    print(\"Creating Splits\")\n",
    "    x_train, x_val, x_test, x_train_dev, x_val_dev,  y_train, y_val, y_test, y_train_dev, y_val_dev =  img_pp.split(X_PREPROCESSED, Y_PREPROCESSED, test_split=100)\n",
    "\n",
    "if USE_DEV:\n",
    "    print(\"Loading in dev set\")\n",
    "    print(\"Creating splits\")\n",
    "    x_train, x_val, x_test, x_train_dev, x_val_dev, y_train, y_val, y_test, y_train_dev, y_val_dev =  img_pp.split(X_DEV, Y_DEV, test_split=100)\n",
    "    \n",
    "print(f\"x_train shape: {x_train.shape}\")\n",
    "print(f\"x_val shape: {x_val.shape}\")"
   ]
  },
  {
   "cell_type": "code",
   "execution_count": 4,
   "id": "fd391237",
   "metadata": {},
   "outputs": [
    {
     "name": "stdout",
     "output_type": "stream",
     "text": [
      "(9360, 32, 32, 1) (9360,)\n",
      "(2240, 32, 32, 1) (2240,)\n",
      "['3' '4' '5' '7' 'A' 'E' 'F' 'H' 'J' 'K' 'L' 'M' 'N' 'Q' 'R' 'S' 'T' 'X'\n",
      " 'Y' 'a' 'd' 'f' 'h' 'i' 'j' 'k' 'p' 'r' 's' 't' 'w' 'x' 'y' 'z']\n",
      "['p' 'N' 'N' 'k' 'Q']\n",
      "[26 12 12 25 13]\n"
     ]
    }
   ],
   "source": [
    "print(x_train.shape, y_train.shape)\n",
    "print(x_val.shape, y_val.shape)\n",
    "print(np.unique(y_label))\n",
    "\n",
    "ind2char = {}\n",
    "char2ind = {}\n",
    "for i, char in enumerate(np.unique(y_label)):\n",
    "    ind2char[i] = char\n",
    "    char2ind[char] = i\n",
    "\n",
    "y_train_ind = np.vectorize(char2ind.get)(y_train)\n",
    "print(y_train[0:5])\n",
    "print(y_train_ind[0:5])\n",
    "y_val_dev_ind = np.vectorize(char2ind.get)(y_val_dev)\n"
   ]
  },
  {
   "cell_type": "code",
   "execution_count": 7,
   "id": "d6765b74",
   "metadata": {},
   "outputs": [
    {
     "name": "stdout",
     "output_type": "stream",
     "text": [
      "INFO:tensorflow:Reloading Tuner from ./singleCharTrials/tuner0.json\n",
      "INFO:tensorflow:Oracle triggered exit\n",
      "\n",
      "The hyperparameter search is complete. The optimal number of filters in the first convolution\n",
      "layer is 52. The optimal kernel size in the first convolutional layer is\n",
      "5. Optimal filters in the second convolutional layer is 48\n",
      "and kernel size is 5.\n",
      "\n",
      "Dense layers 96\n",
      "\n",
      "and the optimal learning rate for the optimizer\n",
      "is 0.001.\n",
      "\n"
     ]
    }
   ],
   "source": [
    "from keras_tuner import Hyperband\n",
    "from tensorflow import keras\n",
    "\n",
    "def model_builder(hp):\n",
    "    # single character recognition\n",
    "    single = keras.Sequential()\n",
    "    #CNN layer\n",
    "    single.add(layers.Conv2D(filters=hp.Int('conv_1_filter', min_value=32, max_value=64, step=4),\n",
    "                             kernel_size=hp.Choice('conv_1_kernel', values = [3,5]), \n",
    "                             activation='relu', input_shape=(32,32,1)))\n",
    "    single.add(layers.MaxPooling2D((2, 2)))\n",
    "    \n",
    "    single.add(layers.Conv2D(filters=hp.Int('conv_2_filter', min_value=32, max_value=64, step=4), \n",
    "                            kernel_size=hp.Choice('conv_2_kernel', values = [3,5]),\n",
    "                            activation='relu'))\n",
    "    single.add(layers.MaxPooling2D((2, 2)))\n",
    "    \n",
    "    single.add(layers.Conv2D(64, (3, 3), activation='relu'))\n",
    "\n",
    "    #Dense Layer\n",
    "    single.add(layers.Flatten())\n",
    "    single.add(layers.Dense(units=hp.Int('dense_1_units', min_value=32, max_value=128, step=16), \n",
    "                            activation='relu'))\n",
    "    single.add(layers.Dense(units = 34, activation = 'softmax')) \n",
    "\n",
    "    # Tune the learning rate for the optimizer\n",
    "    # Choose an optimal value from 0.01, 0.001, or 0.0001\n",
    "    hp_learning_rate = hp.Choice('learning_rate', values=[1e-2, 1e-3, 1e-4])\n",
    "\n",
    "    single.compile(optimizer=keras.optimizers.Adam(learning_rate=hp_learning_rate),\n",
    "                loss=keras.losses.SparseCategoricalCrossentropy(from_logits=True),\n",
    "                metrics=['accuracy'])\n",
    "\n",
    "    return single\n",
    "\n",
    "#creating randomsearch object\n",
    "tuners = Hyperband(model_builder,\n",
    "                    objective='val_accuracy',\n",
    "                    max_epochs = 50,\n",
    "                    factor = 10,\n",
    "                    project_name = 'singleCharTrials')\n",
    "\n",
    "\n",
    "stopEarly = tf.keras.callbacks.EarlyStopping(monitor='val_loss', patience=5)\n",
    "tuners.search(x_train, y_train_ind, epochs=50, validation_split=0.2, callbacks=[stopEarly])\n",
    "\n",
    "# Get the optimal hyperparameters\n",
    "best_hp=tuners.get_best_hyperparameters(num_trials=1)[0]\n",
    "\n",
    "print(f\"\"\"\n",
    "The hyperparameter search is complete. The optimal number of filters in the first convolution\n",
    "layer is {best_hp.get('conv_1_filter')}. The optimal kernel size in the first convolutional layer is\n",
    "{best_hp.get('conv_1_kernel')}. Optimal filters in the second convolutional layer is {best_hp.get(\"conv_2_filter\")}\n",
    "and kernel size is {best_hp.get(\"conv_2_kernel\")}.\n",
    "\n",
    "Dense layers {best_hp.get('dense_1_units')}\n",
    "\n",
    "and the optimal learning rate for the optimizer\n",
    "is {best_hp.get('learning_rate')}.\n",
    "\"\"\")\n"
   ]
  },
  {
   "cell_type": "code",
   "execution_count": 8,
   "id": "da03f9a3",
   "metadata": {},
   "outputs": [
    {
     "name": "stdout",
     "output_type": "stream",
     "text": [
      "Model: \"sequential_1\"\n",
      "_________________________________________________________________\n",
      " Layer (type)                Output Shape              Param #   \n",
      "=================================================================\n",
      " conv2d_3 (Conv2D)           (None, 28, 28, 52)        1352      \n",
      "                                                                 \n",
      " max_pooling2d_2 (MaxPooling  (None, 14, 14, 52)       0         \n",
      " 2D)                                                             \n",
      "                                                                 \n",
      " conv2d_4 (Conv2D)           (None, 10, 10, 48)        62448     \n",
      "                                                                 \n",
      " max_pooling2d_3 (MaxPooling  (None, 5, 5, 48)         0         \n",
      " 2D)                                                             \n",
      "                                                                 \n",
      " conv2d_5 (Conv2D)           (None, 3, 3, 64)          27712     \n",
      "                                                                 \n",
      " flatten_1 (Flatten)         (None, 576)               0         \n",
      "                                                                 \n",
      " dense_2 (Dense)             (None, 96)                55392     \n",
      "                                                                 \n",
      " dense_3 (Dense)             (None, 34)                3298      \n",
      "                                                                 \n",
      "=================================================================\n",
      "Total params: 150,202\n",
      "Trainable params: 150,202\n",
      "Non-trainable params: 0\n",
      "_________________________________________________________________\n"
     ]
    }
   ],
   "source": [
    "# single character recognition\n",
    "single = models.Sequential()\n",
    "#CNN layer\n",
    "single.add(layers.Conv2D(52, (5,5), activation='relu', input_shape=(32,32,1)))\n",
    "single.add(layers.MaxPooling2D((2, 2)))\n",
    "single.add(layers.Conv2D(48, (5, 5), activation='relu'))\n",
    "single.add(layers.MaxPooling2D((2, 2)))\n",
    "single.add(layers.Conv2D(64, (3, 3), activation='relu'))\n",
    "\n",
    "#Dense Layer\n",
    "single.add(layers.Flatten())\n",
    "single.add(layers.Dense(96, activation='relu'))\n",
    "single.add(layers.Dense(34, activation='softmax')) \n",
    "# change to total alphanumeric  unique values\n",
    "# change cross entropy to \n",
    "\n",
    "single.summary()"
   ]
  },
  {
   "cell_type": "code",
   "execution_count": 9,
   "id": "f8a1c475",
   "metadata": {},
   "outputs": [
    {
     "name": "stdout",
     "output_type": "stream",
     "text": [
      "Epoch 1/30\n",
      "293/293 [==============================] - 4s 12ms/step - loss: 2.6450 - accuracy: 0.2475 - val_loss: 1.6207 - val_accuracy: 0.5440\n",
      "Epoch 2/30\n",
      "293/293 [==============================] - 3s 12ms/step - loss: 1.2217 - accuracy: 0.6358 - val_loss: 0.9991 - val_accuracy: 0.7060\n",
      "Epoch 3/30\n",
      "293/293 [==============================] - 3s 12ms/step - loss: 0.8443 - accuracy: 0.7450 - val_loss: 0.7524 - val_accuracy: 0.7660\n",
      "Epoch 4/30\n",
      "293/293 [==============================] - 4s 12ms/step - loss: 0.6660 - accuracy: 0.7932 - val_loss: 0.6737 - val_accuracy: 0.7740\n",
      "Epoch 5/30\n",
      "293/293 [==============================] - 4s 12ms/step - loss: 0.5481 - accuracy: 0.8272 - val_loss: 0.6381 - val_accuracy: 0.7860\n",
      "Epoch 6/30\n",
      "293/293 [==============================] - 4s 12ms/step - loss: 0.4622 - accuracy: 0.8531 - val_loss: 0.5440 - val_accuracy: 0.8200\n",
      "Epoch 7/30\n",
      "293/293 [==============================] - 3s 12ms/step - loss: 0.3839 - accuracy: 0.8767 - val_loss: 0.4957 - val_accuracy: 0.8460\n",
      "Epoch 8/30\n",
      "293/293 [==============================] - 4s 12ms/step - loss: 0.3313 - accuracy: 0.8903 - val_loss: 0.4633 - val_accuracy: 0.8340\n",
      "Epoch 9/30\n",
      "293/293 [==============================] - 4s 12ms/step - loss: 0.2802 - accuracy: 0.9096 - val_loss: 0.4412 - val_accuracy: 0.8600\n",
      "Epoch 10/30\n",
      "293/293 [==============================] - 4s 12ms/step - loss: 0.2451 - accuracy: 0.9193 - val_loss: 0.5364 - val_accuracy: 0.8340\n",
      "Epoch 11/30\n",
      "293/293 [==============================] - 3s 12ms/step - loss: 0.2122 - accuracy: 0.9299 - val_loss: 0.4860 - val_accuracy: 0.8660\n",
      "Epoch 12/30\n",
      "293/293 [==============================] - 4s 12ms/step - loss: 0.1884 - accuracy: 0.9368 - val_loss: 0.4646 - val_accuracy: 0.8540\n",
      "Epoch 13/30\n",
      "293/293 [==============================] - 4s 12ms/step - loss: 0.1526 - accuracy: 0.9480 - val_loss: 0.5218 - val_accuracy: 0.8500\n",
      "Epoch 14/30\n",
      "293/293 [==============================] - 4s 12ms/step - loss: 0.1353 - accuracy: 0.9548 - val_loss: 0.4569 - val_accuracy: 0.8680\n",
      "Epoch 15/30\n",
      "293/293 [==============================] - 4s 12ms/step - loss: 0.1252 - accuracy: 0.9564 - val_loss: 0.5923 - val_accuracy: 0.8440\n",
      "Epoch 16/30\n",
      "293/293 [==============================] - 4s 12ms/step - loss: 0.1088 - accuracy: 0.9627 - val_loss: 0.5841 - val_accuracy: 0.8400\n",
      "Epoch 17/30\n",
      "293/293 [==============================] - 3s 12ms/step - loss: 0.1012 - accuracy: 0.9656 - val_loss: 0.5423 - val_accuracy: 0.8700\n",
      "Epoch 18/30\n",
      "293/293 [==============================] - 4s 12ms/step - loss: 0.0910 - accuracy: 0.9710 - val_loss: 0.5556 - val_accuracy: 0.8620\n",
      "Epoch 19/30\n",
      "293/293 [==============================] - 3s 12ms/step - loss: 0.0678 - accuracy: 0.9766 - val_loss: 0.6812 - val_accuracy: 0.8340\n",
      "Epoch 20/30\n",
      "293/293 [==============================] - 4s 12ms/step - loss: 0.0880 - accuracy: 0.9681 - val_loss: 0.5458 - val_accuracy: 0.8660\n",
      "Epoch 21/30\n",
      "293/293 [==============================] - 3s 12ms/step - loss: 0.0825 - accuracy: 0.9718 - val_loss: 0.6779 - val_accuracy: 0.8560\n",
      "Epoch 22/30\n",
      "293/293 [==============================] - 4s 12ms/step - loss: 0.0570 - accuracy: 0.9824 - val_loss: 0.7034 - val_accuracy: 0.8460\n",
      "Epoch 23/30\n",
      "293/293 [==============================] - 3s 12ms/step - loss: 0.0831 - accuracy: 0.9732 - val_loss: 0.7869 - val_accuracy: 0.8440\n",
      "Epoch 24/30\n",
      "293/293 [==============================] - 4s 12ms/step - loss: 0.0443 - accuracy: 0.9858 - val_loss: 0.6083 - val_accuracy: 0.8800\n",
      "Epoch 25/30\n",
      "293/293 [==============================] - 4s 12ms/step - loss: 0.0323 - accuracy: 0.9911 - val_loss: 0.8282 - val_accuracy: 0.8460\n",
      "Epoch 26/30\n",
      "293/293 [==============================] - 3s 12ms/step - loss: 0.0720 - accuracy: 0.9748 - val_loss: 0.6670 - val_accuracy: 0.8680\n",
      "Epoch 27/30\n",
      "293/293 [==============================] - 4s 12ms/step - loss: 0.0778 - accuracy: 0.9741 - val_loss: 0.8237 - val_accuracy: 0.8560\n",
      "Epoch 28/30\n",
      "293/293 [==============================] - 4s 12ms/step - loss: 0.0631 - accuracy: 0.9808 - val_loss: 0.6708 - val_accuracy: 0.8480\n",
      "Epoch 29/30\n",
      "293/293 [==============================] - 4s 12ms/step - loss: 0.0406 - accuracy: 0.9877 - val_loss: 0.6238 - val_accuracy: 0.8720\n",
      "Epoch 30/30\n",
      "293/293 [==============================] - 4s 12ms/step - loss: 0.0741 - accuracy: 0.9743 - val_loss: 0.7206 - val_accuracy: 0.8520\n"
     ]
    }
   ],
   "source": [
    "single.compile(optimizer=keras.optimizers.Adam(learning_rate=0.001),\n",
    "              loss=tf.keras.losses.SparseCategoricalCrossentropy(from_logits=True),\n",
    "              metrics=['accuracy'])\n",
    "\n",
    "\n",
    "single_history = single.fit(x_train, y_train_ind, epochs=30, \n",
    "                    validation_data=(x_val_dev, y_val_dev_ind))"
   ]
  },
  {
   "cell_type": "code",
   "execution_count": 10,
   "id": "42e6efbb",
   "metadata": {},
   "outputs": [
    {
     "data": {
      "text/plain": [
       "<matplotlib.legend.Legend at 0x2ca596c50>"
      ]
     },
     "execution_count": 10,
     "metadata": {},
     "output_type": "execute_result"
    },
    {
     "data": {
      "image/png": "[encoded data removed]",
      "text/plain": [
       "<Figure size 640x480 with 1 Axes>"
      ]
     },
     "metadata": {},
     "output_type": "display_data"
    }
   ],
   "source": [
    "#Plotting Training Data\n",
    "plt.plot(single_history.history['accuracy'], label='accuracy')\n",
    "plt.plot(single_history.history['val_accuracy'], label = 'val_accuracy')\n",
    "plt.xlabel('Epoch')\n",
    "plt.ylabel('Accuracy')\n",
    "plt.ylim([0.5, 1])\n",
    "plt.legend(loc='lower right')\n"
   ]
  },
  {
   "cell_type": "code",
   "execution_count": 11,
   "id": "26ec0ffd",
   "metadata": {},
   "outputs": [
    {
     "name": "stdout",
     "output_type": "stream",
     "text": [
      "1/1 [==============================] - 0s 49ms/step\n",
      "16\n",
      "1/1 [==============================] - 0s 6ms/step\n",
      "9\n",
      "1/1 [==============================] - 0s 7ms/step\n",
      "27\n",
      "1/1 [==============================] - 0s 6ms/step\n",
      "29\n",
      "1/1 [==============================] - 0s 6ms/step\n",
      "11\n",
      "1/1 [==============================] - 0s 6ms/step\n",
      "8\n",
      "1/1 [==============================] - 0s 6ms/step\n",
      "4\n",
      "1/1 [==============================] - 0s 6ms/step\n",
      "18\n",
      "1/1 [==============================] - 0s 6ms/step\n",
      "5\n",
      "1/1 [==============================] - 0s 6ms/step\n",
      "29\n",
      "1/1 [==============================] - 0s 6ms/step\n",
      "28\n",
      "1/1 [==============================] - 0s 6ms/step\n",
      "24\n",
      "1/1 [==============================] - 0s 7ms/step\n",
      "18\n",
      "1/1 [==============================] - 0s 6ms/step\n",
      "12\n",
      "1/1 [==============================] - 0s 6ms/step\n",
      "33\n",
      "1/1 [==============================] - 0s 6ms/step\n",
      "18\n",
      "1/1 [==============================] - 0s 6ms/step\n",
      "2\n",
      "1/1 [==============================] - 0s 6ms/step\n",
      "1\n",
      "1/1 [==============================] - 0s 6ms/step\n",
      "27\n",
      "1/1 [==============================] - 0s 6ms/step\n",
      "30\n",
      "1/1 [==============================] - 0s 6ms/step\n",
      "24\n",
      "1/1 [==============================] - 0s 7ms/step\n",
      "29\n",
      "1/1 [==============================] - 0s 7ms/step\n",
      "10\n",
      "1/1 [==============================] - 0s 6ms/step\n",
      "27\n",
      "1/1 [==============================] - 0s 6ms/step\n",
      "10\n"
     ]
    },
    {
     "data": {
      "image/png": "[encoded data removed]",
      "text/plain": [
       "<Figure size 1000x1000 with 25 Axes>"
      ]
     },
     "metadata": {},
     "output_type": "display_data"
    }
   ],
   "source": [
    "fig, axs = plt.subplots(5,5)\n",
    "fig.set_size_inches(10,10)\n",
    "N = x_train.shape[0]\n",
    "for i in range(5):\n",
    "    for j in range(5):\n",
    "        idx = np.random.randint(0, N)\n",
    "        axs[i,j].imshow(x_train[idx, :, :, :].astype(int))\n",
    "        y = np.argmax(single.predict(np.squeeze(x_train[idx,:,:,:])[None, :, :, None]))\n",
    "        print(y)\n",
    "        title = ind2char[y]\n",
    "        axs[i,j].set_title(title)\n",
    "        axs[i,j].set_xticks = []\n",
    "        axs[i,j].set_yticks = []\n",
    "    \n",
    "plt.show()"
   ]
  }
 ],
 "metadata": {
  "kernelspec": {
   "display_name": "Python 3 (ipykernel)",
   "language": "python",
   "name": "python3"
  },
  "language_info": {
   "codemirror_mode": {
    "name": "ipython",
    "version": 3
   },
   "file_extension": ".py",
   "mimetype": "text/x-python",
   "name": "python",
   "nbconvert_exporter": "python",
   "pygments_lexer": "ipython3",
   "version": "3.10.6"
  }
 },
 "nbformat": 4,
 "nbformat_minor": 5
}
