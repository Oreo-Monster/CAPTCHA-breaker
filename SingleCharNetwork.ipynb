{
 "cells": [
  {
   "cell_type": "markdown",
   "id": "73fd5274",
   "metadata": {},
   "source": [
    "# Single Character Network\n",
    "\n",
    "The purpose of this network is to identify which alphanumeric value a CAPTCHA character and takes a centered 32x32 input."
   ]
  },
  {
   "cell_type": "code",
   "execution_count": 46,
   "id": "eed6e958",
   "metadata": {},
   "outputs": [
    {
     "name": "stdout",
     "output_type": "stream",
     "text": [
      "The autoreload extension is already loaded. To reload it, use:\n",
      "  %reload_ext autoreload\n"
     ]
    }
   ],
   "source": [
    "import numpy as np\n",
    "import matplotlib.pyplot as plt\n",
    "import tensorflow as tf\n",
    "from tensorflow.keras import layers, models\n",
    "import image_preprocess as img_pp\n",
    "\n",
    "# Automatically reload your external source code\n",
    "%load_ext autoreload\n",
    "%autoreload 2"
   ]
  },
  {
   "cell_type": "code",
   "execution_count": 79,
   "id": "e191dc02",
   "metadata": {},
   "outputs": [],
   "source": [
    "y_pos = np.load('data/y_single_pos.npy')\n",
    "y_label = np.load('data/y_single_label.npy')\n",
    "x = np.load('data/x_single.npy')\n",
    "centered_labels = y_label[np.nonzero(y_pos)]\n",
    "centered_x = x[np.nonzero(y_pos)]\n",
    "\n",
    "np.save(\"data/x_single_centered.npy\", centered_x)\n",
    "np.save(\"data/y_single_label_centered.npy\", centered_labels)"
   ]
  },
  {
   "cell_type": "code",
   "execution_count": 80,
   "id": "6563a916",
   "metadata": {},
   "outputs": [
    {
     "name": "stdout",
     "output_type": "stream",
     "text": [
      "x shape: (11700, 32, 32, 1)\n",
      "y shape: (11700,)\n"
     ]
    }
   ],
   "source": [
    "x, y = img_pp.preprocess_image_data('data/x_single_centered.npy', 'data/y_single_label_centered.npy')\n",
    "print(f\"x shape: {x.shape}\")\n",
    "print(f'y shape: {y.shape}')"
   ]
  },
  {
   "cell_type": "code",
   "execution_count": 90,
   "id": "08a324ad",
   "metadata": {},
   "outputs": [],
   "source": [
    "x_train, x_val, x_test, x_train_dev, x_val_dev, y_train, y_val, y_test, y_train_dev, y_val_dev = img_pp.split('data/x_single_centered_preprocessed.npy', 'data/y_single_label_centered_preprocessed.npy', split_ratio = 0.6,  test_split = 1000)\n",
    "\n"
   ]
  },
  {
   "cell_type": "code",
   "execution_count": 118,
   "id": "a165916f",
   "metadata": {},
   "outputs": [
    {
     "name": "stdout",
     "output_type": "stream",
     "text": [
      "Model: \"sequential_4\"\n",
      "_________________________________________________________________\n",
      " Layer (type)                Output Shape              Param #   \n",
      "=================================================================\n",
      " conv2d_12 (Conv2D)          (None, 30, 30, 32)        320       \n",
      "                                                                 \n",
      " max_pooling2d_8 (MaxPooling  (None, 15, 15, 32)       0         \n",
      " 2D)                                                             \n",
      "                                                                 \n",
      " conv2d_13 (Conv2D)          (None, 13, 13, 64)        18496     \n",
      "                                                                 \n",
      " max_pooling2d_9 (MaxPooling  (None, 6, 6, 64)         0         \n",
      " 2D)                                                             \n",
      "                                                                 \n",
      " conv2d_14 (Conv2D)          (None, 4, 4, 64)          36928     \n",
      "                                                                 \n",
      " flatten_4 (Flatten)         (None, 1024)              0         \n",
      "                                                                 \n",
      " dense_8 (Dense)             (None, 64)                65600     \n",
      "                                                                 \n",
      " dense_9 (Dense)             (None, 62)                4030      \n",
      "                                                                 \n",
      "=================================================================\n",
      "Total params: 125,374\n",
      "Trainable params: 125,374\n",
      "Non-trainable params: 0\n",
      "_________________________________________________________________\n"
     ]
    }
   ],
   "source": [
    "# single character recognition\n",
    "single = models.Sequential()\n",
    "#CNN layer\n",
    "single.add(layers.Conv2D(32, (3,3), activation='relu', input_shape=(32,32,1)))\n",
    "single.add(layers.MaxPooling2D((2, 2)))\n",
    "single.add(layers.Conv2D(64, (3, 3), activation='relu'))\n",
    "single.add(layers.MaxPooling2D((2, 2)))\n",
    "single.add(layers.Conv2D(64, (3, 3), activation='relu'))\n",
    "\n",
    "#Dense Layer\n",
    "single.add(layers.Flatten())\n",
    "single.add(layers.Dense(64, activation='relu'))\n",
    "single.add(layers.Dense(62)) \n",
    "# change to total alphanumeric  unique values\n",
    "# change cross entropy to \n",
    "\n",
    "single.summary()"
   ]
  },
  {
   "cell_type": "code",
   "execution_count": 119,
   "id": "fd391237",
   "metadata": {},
   "outputs": [
    {
     "name": "stdout",
     "output_type": "stream",
     "text": [
      "(3000, 32, 32, 1) (3000,)\n",
      "(500, 32, 32, 1) (500,)\n",
      "['0' '1' '2' '3' '4' '5' '6' '7' '8' '9' 'A' 'B' 'C' 'D' 'E' 'F' 'G' 'H'\n",
      " 'I' 'J' 'K' 'L' 'M' 'N' 'O' 'P' 'Q' 'R' 'S' 'T' 'U' 'V' 'W' 'X' 'Y' 'Z'\n",
      " 'a' 'b' 'c' 'd' 'e' 'f' 'g' 'h' 'i' 'j' 'k' 'l' 'm' 'n' 'o' 'p' 'q' 'r'\n",
      " 's' 't' 'u' 'v' 'w' 'x' 'y' 'z']\n",
      "['M' 'w' 'W' 'n' 'z']\n",
      "[22 58 32 49 61]\n"
     ]
    }
   ],
   "source": [
    "print(x_train_dev.shape, y_train_dev.shape)\n",
    "print(x_val_dev.shape, y_val_dev.shape)\n",
    "print(np.unique(y_label))\n",
    "\n",
    "ind2char = {}\n",
    "for i, char in enumerate(np.unique(y_label)):\n",
    "    ind2char[i] = char\n",
    "    char2ind[char] = i\n",
    "  \n",
    "#print(char2ind['B'])\n",
    "#print(ind2char[11])\n",
    "\n",
    "y_train_dev_ind = np.vectorize(char2ind.get)(y_train_dev)\n",
    "print(y_train_dev[0:5])\n",
    "print(y_train_dev_ind[0:5])\n",
    "y_val_dev_ind = np.vectorize(char2ind.get)(y_val_dev)\n"
   ]
  },
  {
   "cell_type": "code",
   "execution_count": 122,
   "id": "285d2c42",
   "metadata": {},
   "outputs": [
    {
     "name": "stdout",
     "output_type": "stream",
     "text": [
      "Epoch 1/40\n",
      "94/94 [==============================] - 1s 10ms/step - loss: 1.4981 - accuracy: 0.5697 - val_loss: 1.8818 - val_accuracy: 0.5040\n",
      "Epoch 2/40\n",
      "94/94 [==============================] - 1s 9ms/step - loss: 1.3827 - accuracy: 0.5953 - val_loss: 1.7803 - val_accuracy: 0.5080\n",
      "Epoch 3/40\n",
      "94/94 [==============================] - 1s 9ms/step - loss: 1.3029 - accuracy: 0.6143 - val_loss: 1.7670 - val_accuracy: 0.5160\n",
      "Epoch 4/40\n",
      "94/94 [==============================] - 1s 9ms/step - loss: 1.2050 - accuracy: 0.6420 - val_loss: 1.7052 - val_accuracy: 0.5380\n",
      "Epoch 5/40\n",
      "94/94 [==============================] - 1s 9ms/step - loss: 1.1355 - accuracy: 0.6623 - val_loss: 1.6895 - val_accuracy: 0.5400\n",
      "Epoch 6/40\n",
      "94/94 [==============================] - 1s 9ms/step - loss: 1.0931 - accuracy: 0.6680 - val_loss: 1.7881 - val_accuracy: 0.5140\n",
      "Epoch 7/40\n",
      "94/94 [==============================] - 1s 9ms/step - loss: 1.0283 - accuracy: 0.6947 - val_loss: 1.6385 - val_accuracy: 0.5600\n",
      "Epoch 8/40\n",
      "94/94 [==============================] - 1s 10ms/step - loss: 0.9591 - accuracy: 0.7130 - val_loss: 1.6272 - val_accuracy: 0.5640\n",
      "Epoch 9/40\n",
      "94/94 [==============================] - 1s 10ms/step - loss: 0.9041 - accuracy: 0.7233 - val_loss: 1.6895 - val_accuracy: 0.5700\n",
      "Epoch 10/40\n",
      "94/94 [==============================] - 1s 10ms/step - loss: 0.8428 - accuracy: 0.7427 - val_loss: 1.7120 - val_accuracy: 0.5560\n",
      "Epoch 11/40\n",
      "94/94 [==============================] - 1s 10ms/step - loss: 0.7774 - accuracy: 0.7677 - val_loss: 1.6833 - val_accuracy: 0.5640\n",
      "Epoch 12/40\n",
      "94/94 [==============================] - 1s 9ms/step - loss: 0.7593 - accuracy: 0.7683 - val_loss: 1.7149 - val_accuracy: 0.5740\n",
      "Epoch 13/40\n",
      "94/94 [==============================] - 1s 10ms/step - loss: 0.6790 - accuracy: 0.7923 - val_loss: 1.6909 - val_accuracy: 0.5680\n",
      "Epoch 14/40\n",
      "94/94 [==============================] - 1s 10ms/step - loss: 0.6423 - accuracy: 0.8027 - val_loss: 1.7713 - val_accuracy: 0.5740\n",
      "Epoch 15/40\n",
      "94/94 [==============================] - 1s 10ms/step - loss: 0.5921 - accuracy: 0.8137 - val_loss: 1.7781 - val_accuracy: 0.5800\n",
      "Epoch 16/40\n",
      "94/94 [==============================] - 1s 10ms/step - loss: 0.5594 - accuracy: 0.8293 - val_loss: 1.8074 - val_accuracy: 0.5760\n",
      "Epoch 17/40\n",
      "94/94 [==============================] - 1s 10ms/step - loss: 0.5145 - accuracy: 0.8357 - val_loss: 1.7592 - val_accuracy: 0.5860\n",
      "Epoch 18/40\n",
      "94/94 [==============================] - 1s 10ms/step - loss: 0.4809 - accuracy: 0.8577 - val_loss: 1.7708 - val_accuracy: 0.5980\n",
      "Epoch 19/40\n",
      "94/94 [==============================] - 1s 10ms/step - loss: 0.4584 - accuracy: 0.8593 - val_loss: 1.9319 - val_accuracy: 0.5720\n",
      "Epoch 20/40\n",
      "94/94 [==============================] - 1s 10ms/step - loss: 0.4215 - accuracy: 0.8707 - val_loss: 2.0003 - val_accuracy: 0.5700\n",
      "Epoch 21/40\n",
      "94/94 [==============================] - 1s 10ms/step - loss: 0.3910 - accuracy: 0.8797 - val_loss: 1.9954 - val_accuracy: 0.5780\n",
      "Epoch 22/40\n",
      "94/94 [==============================] - 1s 10ms/step - loss: 0.3634 - accuracy: 0.8913 - val_loss: 1.9599 - val_accuracy: 0.5880\n",
      "Epoch 23/40\n",
      "94/94 [==============================] - 1s 10ms/step - loss: 0.3178 - accuracy: 0.9077 - val_loss: 2.0233 - val_accuracy: 0.5880\n",
      "Epoch 24/40\n",
      "94/94 [==============================] - 1s 10ms/step - loss: 0.2964 - accuracy: 0.9140 - val_loss: 2.1405 - val_accuracy: 0.5860\n",
      "Epoch 25/40\n",
      "94/94 [==============================] - 1s 10ms/step - loss: 0.2795 - accuracy: 0.9153 - val_loss: 2.1993 - val_accuracy: 0.5920\n",
      "Epoch 26/40\n",
      "94/94 [==============================] - 1s 10ms/step - loss: 0.2536 - accuracy: 0.9270 - val_loss: 2.2446 - val_accuracy: 0.6000\n",
      "Epoch 27/40\n",
      "94/94 [==============================] - 1s 11ms/step - loss: 0.2450 - accuracy: 0.9297 - val_loss: 2.3930 - val_accuracy: 0.5880\n",
      "Epoch 28/40\n",
      "94/94 [==============================] - 1s 10ms/step - loss: 0.2166 - accuracy: 0.9363 - val_loss: 2.3833 - val_accuracy: 0.5900\n",
      "Epoch 29/40\n",
      "94/94 [==============================] - 1s 10ms/step - loss: 0.2152 - accuracy: 0.9397 - val_loss: 2.4977 - val_accuracy: 0.5880\n",
      "Epoch 30/40\n",
      "94/94 [==============================] - 1s 11ms/step - loss: 0.1952 - accuracy: 0.9440 - val_loss: 2.5962 - val_accuracy: 0.5600\n",
      "Epoch 31/40\n",
      "94/94 [==============================] - 1s 10ms/step - loss: 0.1723 - accuracy: 0.9530 - val_loss: 2.6040 - val_accuracy: 0.5640\n",
      "Epoch 32/40\n",
      "94/94 [==============================] - 1s 10ms/step - loss: 0.1857 - accuracy: 0.9447 - val_loss: 2.7669 - val_accuracy: 0.5500\n",
      "Epoch 33/40\n",
      "94/94 [==============================] - 1s 11ms/step - loss: 0.1714 - accuracy: 0.9527 - val_loss: 2.6676 - val_accuracy: 0.5940\n",
      "Epoch 34/40\n",
      "94/94 [==============================] - 1s 10ms/step - loss: 0.1340 - accuracy: 0.9663 - val_loss: 2.7467 - val_accuracy: 0.5780\n",
      "Epoch 35/40\n",
      "94/94 [==============================] - 1s 10ms/step - loss: 0.1493 - accuracy: 0.9563 - val_loss: 2.6936 - val_accuracy: 0.5960\n",
      "Epoch 36/40\n",
      "94/94 [==============================] - 1s 10ms/step - loss: 0.1042 - accuracy: 0.9747 - val_loss: 2.8448 - val_accuracy: 0.5900\n",
      "Epoch 37/40\n",
      "94/94 [==============================] - 1s 10ms/step - loss: 0.0768 - accuracy: 0.9857 - val_loss: 2.9478 - val_accuracy: 0.6040\n",
      "Epoch 38/40\n",
      "94/94 [==============================] - 1s 10ms/step - loss: 0.0652 - accuracy: 0.9893 - val_loss: 3.0360 - val_accuracy: 0.5780\n",
      "Epoch 39/40\n",
      "94/94 [==============================] - 1s 10ms/step - loss: 0.0513 - accuracy: 0.9953 - val_loss: 3.1631 - val_accuracy: 0.5760\n",
      "Epoch 40/40\n",
      "94/94 [==============================] - 1s 10ms/step - loss: 0.0448 - accuracy: 0.9950 - val_loss: 3.1789 - val_accuracy: 0.5880\n"
     ]
    }
   ],
   "source": [
    "#Training Network\n",
    "single.compile(optimizer='adam',\n",
    "              loss=tf.keras.losses.SparseCategoricalCrossentropy(from_logits=True),\n",
    "              metrics=['accuracy'])\n",
    "\n",
    "\n",
    "single_history = single.fit(x_train_dev, y_train_dev_ind, epochs=40, \n",
    "                    validation_data=(x_val_dev, y_val_dev_ind))\n"
   ]
  },
  {
   "cell_type": "code",
   "execution_count": 123,
   "id": "a9fb1266",
   "metadata": {},
   "outputs": [
    {
     "data": {
      "text/plain": [
       "<matplotlib.legend.Legend at 0x28638fdc0>"
      ]
     },
     "execution_count": 123,
     "metadata": {},
     "output_type": "execute_result"
    },
    {
     "data": {
      "image/png": "[encoded data removed]",
      "text/plain": [
       "<Figure size 640x480 with 1 Axes>"
      ]
     },
     "metadata": {},
     "output_type": "display_data"
    }
   ],
   "source": [
    "#Plotting Training Data\n",
    "plt.plot(single_history.history['accuracy'], label='accuracy')\n",
    "plt.plot(single_history.history['val_accuracy'], label = 'val_accuracy')\n",
    "plt.xlabel('Epoch')\n",
    "plt.ylabel('Accuracy')\n",
    "plt.ylim([0.5, 1])\n",
    "plt.legend(loc='lower right')\n"
   ]
  },
  {
   "cell_type": "code",
   "execution_count": 124,
   "id": "d6765b74",
   "metadata": {},
   "outputs": [
    {
     "ename": "AttributeError",
     "evalue": "module 'tensorflow' has no attribute 'Session'",
     "output_type": "error",
     "traceback": [
      "\u001b[0;31m---------------------------------------------------------------------------\u001b[0m",
      "\u001b[0;31mAttributeError\u001b[0m                            Traceback (most recent call last)",
      "Cell \u001b[0;32mIn [124], line 1\u001b[0m\n\u001b[0;32m----> 1\u001b[0m \u001b[43mtf\u001b[49m\u001b[38;5;241;43m.\u001b[39;49m\u001b[43mSession\u001b[49m()\n",
      "\u001b[0;31mAttributeError\u001b[0m: module 'tensorflow' has no attribute 'Session'"
     ]
    }
   ],
   "source": []
  }
 ],
 "metadata": {
  "kernelspec": {
   "display_name": "Python 3 (ipykernel)",
   "language": "python",
   "name": "python3"
  },
  "language_info": {
   "codemirror_mode": {
    "name": "ipython",
    "version": 3
   },
   "file_extension": ".py",
   "mimetype": "text/x-python",
   "name": "python",
   "nbconvert_exporter": "python",
   "pygments_lexer": "ipython3",
   "version": "3.10.6"
  }
 },
 "nbformat": 4,
 "nbformat_minor": 5
}
